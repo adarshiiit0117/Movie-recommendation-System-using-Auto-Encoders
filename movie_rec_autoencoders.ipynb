{
  "nbformat": 4,
  "nbformat_minor": 0,
  "metadata": {
    "colab": {
      "provenance": []
    },
    "kernelspec": {
      "name": "python3",
      "display_name": "Python 3"
    },
    "language_info": {
      "name": "python"
    }
  },
  "cells": [
    {
      "cell_type": "markdown",
      "source": [
        "  MOVIE RECOMMENDATION SYSTEM USING  Auto Encoders"
      ],
      "metadata": {
        "id": "MPT2l3GNAHBz"
      }
    },
    {
      "cell_type": "code",
      "source": [
        "import numpy as np\n",
        "import pandas as pd\n",
        "\n",
        "import torch\n",
        "import torch.nn as  nn\n",
        "import torch.nn.parallel\n",
        "import torch.optim as optim\n",
        "import torch.utils.data\n",
        "from torch.autograd import Variable"
      ],
      "metadata": {
        "id": "Shb-vJHvASXL"
      },
      "execution_count": 2,
      "outputs": []
    },
    {
      "cell_type": "code",
      "source": [
        "movies=pd.read_csv('movies.dat',sep='::',header=None,engine='python',encoding='latin-1')"
      ],
      "metadata": {
        "id": "HZwqyCVAGTJp"
      },
      "execution_count": 3,
      "outputs": []
    },
    {
      "cell_type": "code",
      "source": [
        "users=pd.read_csv('users.dat',sep='::',header=None,engine='python',encoding='latin-1')"
      ],
      "metadata": {
        "id": "fwVEyLzjL_ds"
      },
      "execution_count": 4,
      "outputs": []
    },
    {
      "cell_type": "code",
      "source": [
        "ratings=pd.read_csv('ratings.dat',sep='::',header=None,engine='python',encoding='latin-1')"
      ],
      "metadata": {
        "id": "pE_3dLvWfWM7"
      },
      "execution_count": 5,
      "outputs": []
    },
    {
      "cell_type": "code",
      "source": [
        "training_set=pd.read_csv('u1.base',delimiter='\\t')"
      ],
      "metadata": {
        "id": "KImoigsI5n_y"
      },
      "execution_count": 6,
      "outputs": []
    },
    {
      "cell_type": "code",
      "source": [
        "print(training_set)"
      ],
      "metadata": {
        "colab": {
          "base_uri": "https://localhost:8080/"
        },
        "id": "AgpfzLuZ7LwG",
        "outputId": "c6c69b07-fffb-4b62-d75e-a6f88770553e"
      },
      "execution_count": 7,
      "outputs": [
        {
          "output_type": "stream",
          "name": "stdout",
          "text": [
            "         1   1.1  5  874965758\n",
            "0        1     2  3  876893171\n",
            "1        1     3  4  878542960\n",
            "2        1     4  3  876893119\n",
            "3        1     5  3  889751712\n",
            "4        1     7  4  875071561\n",
            "...    ...   ... ..        ...\n",
            "79994  943  1067  2  875501756\n",
            "79995  943  1074  4  888640250\n",
            "79996  943  1188  3  888640250\n",
            "79997  943  1228  3  888640275\n",
            "79998  943  1330  3  888692465\n",
            "\n",
            "[79999 rows x 4 columns]\n"
          ]
        }
      ]
    },
    {
      "cell_type": "code",
      "source": [
        "training_set=np.array(training_set,dtype='int')"
      ],
      "metadata": {
        "id": "lXmalbKT8M01"
      },
      "execution_count": 8,
      "outputs": []
    },
    {
      "cell_type": "code",
      "source": [
        "test_set=pd.read_csv('u1.test',delimiter='\\t')\n",
        "test_set=np.array(test_set,dtype='int')"
      ],
      "metadata": {
        "id": "_wJs2pa-8p3N"
      },
      "execution_count": 9,
      "outputs": []
    },
    {
      "cell_type": "code",
      "source": [
        "nb_users = int(max(max(training_set[:, 0]), max(test_set[:, 0])))\n",
        "nb_movies = int(max(max(training_set[:, 1]), max(test_set[:, 1])))\n"
      ],
      "metadata": {
        "id": "eAFNhIpyCDt3"
      },
      "execution_count": 10,
      "outputs": []
    },
    {
      "cell_type": "code",
      "source": [
        "def convert(data):\n",
        "    new_data = []\n",
        "    for id_users in range(1, nb_users + 1):\n",
        "        id_movies = data[:, 1][data[:, 0] == id_users]\n",
        "        id_ratings = data[:, 2][data[:, 0] == id_users]\n",
        "        ratings = np.zeros(nb_movies)\n",
        "        ratings[id_movies - 1] = id_ratings\n",
        "        new_data.append(list(ratings))\n",
        "    return new_data\n",
        "\n",
        "training_set = convert(training_set)\n",
        "test_set = convert(test_set)"
      ],
      "metadata": {
        "id": "_RHdVYW8D5YL"
      },
      "execution_count": 11,
      "outputs": []
    },
    {
      "cell_type": "code",
      "source": [
        "training_set=torch.FloatTensor(training_set)\n",
        "test_set=torch.FloatTensor(test_set)"
      ],
      "metadata": {
        "id": "VCsbvYANKm2i"
      },
      "execution_count": 12,
      "outputs": []
    },
    {
      "cell_type": "markdown",
      "source": [
        "CREATING STRUCTURE OF NEURAL NETWORKS"
      ],
      "metadata": {
        "id": "ORfmVffGMa3z"
      }
    },
    {
      "cell_type": "code",
      "source": [
        "class SAE(nn.Module):\n",
        "  def __init__(self,):\n",
        "    super(SAE,self).__init__()\n",
        "    self.fc1=nn.Linear(nb_movies,20)\n",
        "    self.fc2=nn.Linear(20,10)\n",
        "    self.fc3=nn.Linear(10,20)\n",
        "    self.fc4=nn.Linear(20,nb_movies)\n",
        "    self.activation= nn.Sigmoid()\n",
        "  def forward(self,x):\n",
        "    x=self.activation(self.fc1(x))\n",
        "    x=self.activation(self.fc2(x))\n",
        "    x=self.activation(self.fc3(x))\n",
        "    x=self.fc4(x)\n",
        "    return x\n"
      ],
      "metadata": {
        "id": "Y_vuXLVuMZby"
      },
      "execution_count": 13,
      "outputs": []
    },
    {
      "cell_type": "code",
      "source": [
        "sae=SAE()"
      ],
      "metadata": {
        "id": "BxnvPXRpW6Ix"
      },
      "execution_count": 14,
      "outputs": []
    },
    {
      "cell_type": "code",
      "source": [
        "criterion=nn.MSELoss()\n",
        "optimizer=optim.RMSprop(sae.parameters(),lr=0.01,weight_decay=0.5)\n"
      ],
      "metadata": {
        "id": "zqat9tHWRgXM"
      },
      "execution_count": 15,
      "outputs": []
    },
    {
      "cell_type": "markdown",
      "source": [
        "TRAINING THE SAE"
      ],
      "metadata": {
        "id": "BnLa8S0uS1lO"
      }
    },
    {
      "cell_type": "code",
      "source": [
        "nb_epoch=200\n",
        "for epoch in range(1,nb_epoch+1):\n",
        "  train_loss=0\n",
        "  s=0.\n",
        "  for id_user in range(nb_users):\n",
        "    input=Variable(training_set[id_user]).unsqueeze(0)\n",
        "    target=input.clone()\n",
        "    if torch.sum(target.data>0)>0:\n",
        "      output=sae(input)\n",
        "      target.require_grad=False\n",
        "      output[target==0]=0\n",
        "      loss=criterion(output,target)\n",
        "      mean_corrector=nb_movies/float(torch.sum(target.data>0)+1e-10)\n",
        "      loss.backward()\n",
        "      train_loss+=np.sqrt(loss.data*mean_corrector)\n",
        "      s+=1.\n",
        "      optimizer.step()\n",
        "  print('epoch: '+str(epoch)+'loss: '+str(train_loss/s))\n"
      ],
      "metadata": {
        "colab": {
          "base_uri": "https://localhost:8080/"
        },
        "id": "Cy2StbWrS1GW",
        "outputId": "ab4a1895-0988-4b3d-cb7d-132f56c86e86"
      },
      "execution_count": 17,
      "outputs": [
        {
          "output_type": "stream",
          "name": "stderr",
          "text": [
            "/tmp/ipython-input-17-2148035191.py:15: DeprecationWarning: __array_wrap__ must accept context and return_scalar arguments (positionally) in the future. (Deprecated NumPy 2.0)\n",
            "  train_loss+=np.sqrt(loss.data*mean_corrector)\n"
          ]
        },
        {
          "output_type": "stream",
          "name": "stdout",
          "text": [
            "epoch: 1loss: tensor(1.7720)\n",
            "epoch: 2loss: tensor(1.0965)\n",
            "epoch: 3loss: tensor(1.0533)\n",
            "epoch: 4loss: tensor(1.0384)\n",
            "epoch: 5loss: tensor(1.0308)\n",
            "epoch: 6loss: tensor(1.0265)\n",
            "epoch: 7loss: tensor(1.0235)\n",
            "epoch: 8loss: tensor(1.0220)\n",
            "epoch: 9loss: tensor(1.0207)\n",
            "epoch: 10loss: tensor(1.0198)\n",
            "epoch: 11loss: tensor(1.0187)\n",
            "epoch: 12loss: tensor(1.0184)\n",
            "epoch: 13loss: tensor(1.0179)\n",
            "epoch: 14loss: tensor(1.0174)\n",
            "epoch: 15loss: tensor(1.0171)\n",
            "epoch: 16loss: tensor(1.0166)\n",
            "epoch: 17loss: tensor(1.0169)\n",
            "epoch: 18loss: tensor(1.0165)\n",
            "epoch: 19loss: tensor(1.0164)\n",
            "epoch: 20loss: tensor(1.0160)\n",
            "epoch: 21loss: tensor(1.0161)\n",
            "epoch: 22loss: tensor(1.0158)\n",
            "epoch: 23loss: tensor(1.0158)\n",
            "epoch: 24loss: tensor(1.0158)\n",
            "epoch: 25loss: tensor(1.0158)\n",
            "epoch: 26loss: tensor(1.0157)\n",
            "epoch: 27loss: tensor(1.0154)\n",
            "epoch: 28loss: tensor(1.0152)\n",
            "epoch: 29loss: tensor(1.0126)\n",
            "epoch: 30loss: tensor(1.0117)\n",
            "epoch: 31loss: tensor(1.0093)\n",
            "epoch: 32loss: tensor(1.0094)\n",
            "epoch: 33loss: tensor(1.0052)\n",
            "epoch: 34loss: tensor(1.0054)\n",
            "epoch: 35loss: tensor(1.0013)\n",
            "epoch: 36loss: tensor(1.0006)\n",
            "epoch: 37loss: tensor(0.9974)\n",
            "epoch: 38loss: tensor(0.9976)\n",
            "epoch: 39loss: tensor(0.9939)\n",
            "epoch: 40loss: tensor(0.9896)\n",
            "epoch: 41loss: tensor(0.9891)\n",
            "epoch: 42loss: tensor(0.9906)\n",
            "epoch: 43loss: tensor(0.9838)\n",
            "epoch: 44loss: tensor(0.9869)\n",
            "epoch: 45loss: tensor(0.9839)\n",
            "epoch: 46loss: tensor(0.9883)\n",
            "epoch: 47loss: tensor(0.9869)\n",
            "epoch: 48loss: tensor(0.9838)\n",
            "epoch: 49loss: tensor(0.9790)\n",
            "epoch: 50loss: tensor(0.9771)\n",
            "epoch: 51loss: tensor(0.9797)\n",
            "epoch: 52loss: tensor(0.9768)\n",
            "epoch: 53loss: tensor(0.9745)\n",
            "epoch: 54loss: tensor(0.9757)\n",
            "epoch: 55loss: tensor(0.9682)\n",
            "epoch: 56loss: tensor(0.9748)\n",
            "epoch: 57loss: tensor(0.9728)\n",
            "epoch: 58loss: tensor(0.9771)\n",
            "epoch: 59loss: tensor(0.9745)\n",
            "epoch: 60loss: tensor(0.9722)\n",
            "epoch: 61loss: tensor(0.9682)\n",
            "epoch: 62loss: tensor(0.9689)\n",
            "epoch: 63loss: tensor(0.9638)\n",
            "epoch: 64loss: tensor(0.9682)\n",
            "epoch: 65loss: tensor(0.9656)\n",
            "epoch: 66loss: tensor(0.9673)\n",
            "epoch: 67loss: tensor(0.9639)\n",
            "epoch: 68loss: tensor(0.9643)\n",
            "epoch: 69loss: tensor(0.9627)\n",
            "epoch: 70loss: tensor(0.9619)\n",
            "epoch: 71loss: tensor(0.9599)\n",
            "epoch: 72loss: tensor(0.9609)\n",
            "epoch: 73loss: tensor(0.9605)\n",
            "epoch: 74loss: tensor(0.9590)\n",
            "epoch: 75loss: tensor(0.9594)\n",
            "epoch: 76loss: tensor(0.9578)\n",
            "epoch: 77loss: tensor(0.9570)\n",
            "epoch: 78loss: tensor(0.9549)\n",
            "epoch: 79loss: tensor(0.9527)\n",
            "epoch: 80loss: tensor(0.9519)\n",
            "epoch: 81loss: tensor(0.9516)\n",
            "epoch: 82loss: tensor(0.9510)\n",
            "epoch: 83loss: tensor(0.9504)\n",
            "epoch: 84loss: tensor(0.9550)\n",
            "epoch: 85loss: tensor(0.9492)\n",
            "epoch: 86loss: tensor(0.9492)\n",
            "epoch: 87loss: tensor(0.9459)\n",
            "epoch: 88loss: tensor(0.9485)\n",
            "epoch: 89loss: tensor(0.9454)\n",
            "epoch: 90loss: tensor(0.9461)\n",
            "epoch: 91loss: tensor(0.9443)\n",
            "epoch: 92loss: tensor(0.9448)\n",
            "epoch: 93loss: tensor(0.9414)\n",
            "epoch: 94loss: tensor(0.9430)\n",
            "epoch: 95loss: tensor(0.9401)\n",
            "epoch: 96loss: tensor(0.9422)\n",
            "epoch: 97loss: tensor(0.9382)\n",
            "epoch: 98loss: tensor(0.9416)\n",
            "epoch: 99loss: tensor(0.9405)\n",
            "epoch: 100loss: tensor(0.9426)\n",
            "epoch: 101loss: tensor(0.9373)\n",
            "epoch: 102loss: tensor(0.9396)\n",
            "epoch: 103loss: tensor(0.9361)\n",
            "epoch: 104loss: tensor(0.9385)\n",
            "epoch: 105loss: tensor(0.9352)\n",
            "epoch: 106loss: tensor(0.9367)\n",
            "epoch: 107loss: tensor(0.9344)\n",
            "epoch: 108loss: tensor(0.9369)\n",
            "epoch: 109loss: tensor(0.9340)\n",
            "epoch: 110loss: tensor(0.9361)\n",
            "epoch: 111loss: tensor(0.9332)\n",
            "epoch: 112loss: tensor(0.9350)\n",
            "epoch: 113loss: tensor(0.9322)\n",
            "epoch: 114loss: tensor(0.9341)\n",
            "epoch: 115loss: tensor(0.9316)\n",
            "epoch: 116loss: tensor(0.9339)\n",
            "epoch: 117loss: tensor(0.9310)\n",
            "epoch: 118loss: tensor(0.9322)\n",
            "epoch: 119loss: tensor(0.9299)\n",
            "epoch: 120loss: tensor(0.9322)\n",
            "epoch: 121loss: tensor(0.9301)\n",
            "epoch: 122loss: tensor(0.9314)\n",
            "epoch: 123loss: tensor(0.9291)\n",
            "epoch: 124loss: tensor(0.9305)\n",
            "epoch: 125loss: tensor(0.9284)\n",
            "epoch: 126loss: tensor(0.9304)\n",
            "epoch: 127loss: tensor(0.9282)\n",
            "epoch: 128loss: tensor(0.9297)\n",
            "epoch: 129loss: tensor(0.9278)\n",
            "epoch: 130loss: tensor(0.9288)\n",
            "epoch: 131loss: tensor(0.9271)\n",
            "epoch: 132loss: tensor(0.9284)\n",
            "epoch: 133loss: tensor(0.9263)\n",
            "epoch: 134loss: tensor(0.9278)\n",
            "epoch: 135loss: tensor(0.9261)\n",
            "epoch: 136loss: tensor(0.9270)\n",
            "epoch: 137loss: tensor(0.9254)\n",
            "epoch: 138loss: tensor(0.9268)\n",
            "epoch: 139loss: tensor(0.9252)\n",
            "epoch: 140loss: tensor(0.9259)\n",
            "epoch: 141loss: tensor(0.9245)\n",
            "epoch: 142loss: tensor(0.9251)\n",
            "epoch: 143loss: tensor(0.9237)\n",
            "epoch: 144loss: tensor(0.9245)\n",
            "epoch: 145loss: tensor(0.9230)\n",
            "epoch: 146loss: tensor(0.9238)\n",
            "epoch: 147loss: tensor(0.9225)\n",
            "epoch: 148loss: tensor(0.9233)\n",
            "epoch: 149loss: tensor(0.9224)\n",
            "epoch: 150loss: tensor(0.9234)\n",
            "epoch: 151loss: tensor(0.9217)\n",
            "epoch: 152loss: tensor(0.9226)\n",
            "epoch: 153loss: tensor(0.9210)\n",
            "epoch: 154loss: tensor(0.9222)\n",
            "epoch: 155loss: tensor(0.9207)\n",
            "epoch: 156loss: tensor(0.9218)\n",
            "epoch: 157loss: tensor(0.9205)\n",
            "epoch: 158loss: tensor(0.9209)\n",
            "epoch: 159loss: tensor(0.9195)\n",
            "epoch: 160loss: tensor(0.9208)\n",
            "epoch: 161loss: tensor(0.9200)\n",
            "epoch: 162loss: tensor(0.9206)\n",
            "epoch: 163loss: tensor(0.9198)\n",
            "epoch: 164loss: tensor(0.9201)\n",
            "epoch: 165loss: tensor(0.9193)\n",
            "epoch: 166loss: tensor(0.9195)\n",
            "epoch: 167loss: tensor(0.9188)\n",
            "epoch: 168loss: tensor(0.9192)\n",
            "epoch: 169loss: tensor(0.9183)\n",
            "epoch: 170loss: tensor(0.9194)\n",
            "epoch: 171loss: tensor(0.9181)\n",
            "epoch: 172loss: tensor(0.9188)\n",
            "epoch: 173loss: tensor(0.9178)\n",
            "epoch: 174loss: tensor(0.9182)\n",
            "epoch: 175loss: tensor(0.9171)\n",
            "epoch: 176loss: tensor(0.9179)\n",
            "epoch: 177loss: tensor(0.9169)\n",
            "epoch: 178loss: tensor(0.9177)\n",
            "epoch: 179loss: tensor(0.9167)\n",
            "epoch: 180loss: tensor(0.9174)\n",
            "epoch: 181loss: tensor(0.9164)\n",
            "epoch: 182loss: tensor(0.9174)\n",
            "epoch: 183loss: tensor(0.9165)\n",
            "epoch: 184loss: tensor(0.9170)\n",
            "epoch: 185loss: tensor(0.9160)\n",
            "epoch: 186loss: tensor(0.9165)\n",
            "epoch: 187loss: tensor(0.9158)\n",
            "epoch: 188loss: tensor(0.9162)\n",
            "epoch: 189loss: tensor(0.9151)\n",
            "epoch: 190loss: tensor(0.9160)\n",
            "epoch: 191loss: tensor(0.9149)\n",
            "epoch: 192loss: tensor(0.9156)\n",
            "epoch: 193loss: tensor(0.9149)\n",
            "epoch: 194loss: tensor(0.9158)\n",
            "epoch: 195loss: tensor(0.9145)\n",
            "epoch: 196loss: tensor(0.9153)\n",
            "epoch: 197loss: tensor(0.9139)\n",
            "epoch: 198loss: tensor(0.9146)\n",
            "epoch: 199loss: tensor(0.9135)\n",
            "epoch: 200loss: tensor(0.9143)\n"
          ]
        }
      ]
    },
    {
      "cell_type": "markdown",
      "source": [
        "TESTING A SAE"
      ],
      "metadata": {
        "id": "0Y4ZUwdxYtPL"
      }
    },
    {
      "cell_type": "code",
      "source": [
        "test_loss=0\n",
        "s=0.\n",
        "for id_user in range(nb_users):\n",
        "    input=Variable(training_set[id_user]).unsqueeze(0)\n",
        "    target=input.clone()\n",
        "    if torch.sum(target.data>0)>0:\n",
        "      output=sae(input)\n",
        "      target.require_grad=False\n",
        "      output[target==0]=0\n",
        "      loss=criterion(output,target)\n",
        "      mean_corrector=nb_movies/float(torch.sum(target.data>0)+1e-10)\n",
        "\n",
        "      train_loss+=np.sqrt(loss.data*mean_corrector)\n",
        "      s+=1.\n",
        "\n",
        "print('loss: '+str(test_loss/s))\n"
      ],
      "metadata": {
        "colab": {
          "base_uri": "https://localhost:8080/"
        },
        "id": "WLO8jV_CYsk1",
        "outputId": "263f4edb-efaf-4f9e-bc5e-3335e83fc452"
      },
      "execution_count": 18,
      "outputs": [
        {
          "output_type": "stream",
          "name": "stderr",
          "text": [
            "/tmp/ipython-input-18-1469485880.py:13: DeprecationWarning: __array_wrap__ must accept context and return_scalar arguments (positionally) in the future. (Deprecated NumPy 2.0)\n",
            "  train_loss+=np.sqrt(loss.data*mean_corrector)\n"
          ]
        },
        {
          "output_type": "stream",
          "name": "stdout",
          "text": [
            "loss: 0.0\n"
          ]
        }
      ]
    }
  ]
}